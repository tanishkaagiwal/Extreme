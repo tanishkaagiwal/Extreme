{
 "cells": [
  {
   "cell_type": "code",
   "execution_count": 503,
   "metadata": {},
   "outputs": [],
   "source": [
    "import pandas as pd\n",
    "import seaborn as sns\n",
    "import matplotlib.pyplot as plt\n",
    "\n"
   ]
  },
  {
   "cell_type": "code",
   "execution_count": 504,
   "metadata": {},
   "outputs": [],
   "source": [
    "# Load datasets\n",
    "static_df = pd.read_csv(r\"C:\\Users\\anush\\OneDrive\\Desktop\\Portfolio_analysis\\data\\raw\\static_client_data.csv\")\n",
    "target_df = pd.read_csv(r\"C:\\Users\\anush\\OneDrive\\Desktop\\Portfolio_analysis\\data\\raw\\target_data.csv\")\n",
    "\n"
   ]
  },
  {
   "cell_type": "code",
   "execution_count": 505,
   "metadata": {},
   "outputs": [],
   "source": [
    "# Merge datasets on client_id\n",
    "merged_df = pd.merge(static_df, target_df, on=\"client_id\", how=\"left\")\n",
    "\n"
   ]
  },
  {
   "cell_type": "code",
   "execution_count": 506,
   "metadata": {},
   "outputs": [
    {
     "data": {
      "text/plain": [
       "(10000, 18)"
      ]
     },
     "execution_count": 506,
     "metadata": {},
     "output_type": "execute_result"
    }
   ],
   "source": [
    "merged_df.shape"
   ]
  },
  {
   "cell_type": "code",
   "execution_count": 507,
   "metadata": {},
   "outputs": [
    {
     "data": {
      "text/plain": [
       "Index(['client_id', 'age', 'gender', 'employment_status', 'annual_income',\n",
       "       'debt_to_income_ratio', 'financial_knowledge_score', 'investment_goals',\n",
       "       'risk_appetite', 'investment_horizon_years', 'dependents',\n",
       "       'preferred_asset_classes', 'savings_rate', 'net_worth',\n",
       "       'recommended_strategy', 'forecasted_value_year_1',\n",
       "       'forecasted_value_year_2', 'forecasted_value_year_3'],\n",
       "      dtype='object')"
      ]
     },
     "execution_count": 507,
     "metadata": {},
     "output_type": "execute_result"
    }
   ],
   "source": [
    "merged_df.columns"
   ]
  },
  {
   "cell_type": "code",
   "execution_count": 508,
   "metadata": {},
   "outputs": [
    {
     "name": "stdout",
     "output_type": "stream",
     "text": [
      "Categorical columns: ['client_id', 'gender', 'employment_status', 'investment_goals', 'risk_appetite', 'preferred_asset_classes', 'recommended_strategy']\n",
      "Numerical columns: ['age', 'annual_income', 'debt_to_income_ratio', 'financial_knowledge_score', 'investment_horizon_years', 'dependents', 'savings_rate', 'net_worth', 'forecasted_value_year_1', 'forecasted_value_year_2', 'forecasted_value_year_3']\n"
     ]
    }
   ],
   "source": [
    "# Identify categorical and numerical columns\n",
    "categorical_cols = merged_df.select_dtypes(include=['object']).columns.tolist()\n",
    "numerical_cols = merged_df.select_dtypes(include=['number']).columns.tolist()\n",
    "\n",
    "print(\"Categorical columns:\", categorical_cols)\n",
    "print(\"Numerical columns:\", numerical_cols)\n",
    "\n"
   ]
  },
  {
   "cell_type": "code",
   "execution_count": 509,
   "metadata": {},
   "outputs": [],
   "source": [
    "# Remove clients with negative income\n",
    "deleted_clients_df = merged_df[merged_df['annual_income'] < 0][['client_id']]\n",
    "merged_df = merged_df[merged_df['annual_income'] >= 0]\n",
    "\n"
   ]
  },
  {
   "cell_type": "code",
   "execution_count": 510,
   "metadata": {},
   "outputs": [
    {
     "data": {
      "text/plain": [
       "(9986, 18)"
      ]
     },
     "execution_count": 510,
     "metadata": {},
     "output_type": "execute_result"
    }
   ],
   "source": [
    "merged_df.shape"
   ]
  },
  {
   "cell_type": "code",
   "execution_count": 511,
   "metadata": {},
   "outputs": [],
   "source": [
    "# Convert age to categorical\n",
    "def categorize_age(age):\n",
    "    if age < 35:\n",
    "        return 'young'\n",
    "    elif age < 60:\n",
    "        return 'middle_aged'\n",
    "    else:\n",
    "        return 'senior'\n",
    "    \n"
   ]
  },
  {
   "cell_type": "code",
   "execution_count": 512,
   "metadata": {},
   "outputs": [],
   "source": [
    "merged_df['age_category'] = merged_df['age'].apply(categorize_age)\n",
    "categorical_cols.append('age_category')\n",
    "merged_df.drop(columns=['age'], inplace=True)\n",
    "\n"
   ]
  },
  {
   "cell_type": "code",
   "execution_count": 513,
   "metadata": {},
   "outputs": [
    {
     "data": {
      "text/plain": [
       "(9986, 18)"
      ]
     },
     "execution_count": 513,
     "metadata": {},
     "output_type": "execute_result"
    }
   ],
   "source": [
    "merged_df.shape"
   ]
  },
  {
   "cell_type": "code",
   "execution_count": 514,
   "metadata": {},
   "outputs": [],
   "source": [
    "from sklearn.preprocessing import OneHotEncoder, OrdinalEncoder, LabelEncoder\n",
    "from category_encoders import TargetEncoder"
   ]
  },
  {
   "cell_type": "code",
   "execution_count": 515,
   "metadata": {},
   "outputs": [
    {
     "data": {
      "text/plain": [
       "<bound method NDFrame.head of                                  client_id  gender employment_status  \\\n",
       "0     96c4c0a3-bb3f-4ac1-81ad-0850cd29911f   Other          Salaried   \n",
       "1     35fb4c11-fb1a-4eeb-addc-bd6ff6cb7934    Male          Salaried   \n",
       "2     e5aafbe0-c869-41d9-acf1-1b019363e449   Other          Salaried   \n",
       "3     43b978dd-4dd5-4f21-96d2-63ab16c814a3   Other           Retired   \n",
       "4     abe77866-df1b-4a5c-ad96-eb78dff4ffc9    Male     Self-Employed   \n",
       "...                                    ...     ...               ...   \n",
       "9995  f17c2deb-f3f9-492a-9de5-8e36f1614b61   Other     Self-Employed   \n",
       "9996  a3ec435d-688c-4790-b960-ce10d2d06f6e    Male          Salaried   \n",
       "9997  519ffef1-98fc-46bd-ba59-80f85787108a    Male          Salaried   \n",
       "9998  2250d851-4753-470f-9b60-585d6f3ba747    Male          Salaried   \n",
       "9999  41b1bc9d-b7ec-4092-803b-6ae2a1023605  Female        Unemployed   \n",
       "\n",
       "      annual_income  debt_to_income_ratio  financial_knowledge_score  \\\n",
       "0          61244.14                  0.49                          5   \n",
       "1         111338.35                  0.39                          1   \n",
       "2          27581.32                  0.12                          5   \n",
       "3          64813.50                  0.44                          4   \n",
       "4         108668.65                  0.35                          2   \n",
       "...             ...                   ...                        ...   \n",
       "9995       67150.52                  0.20                          9   \n",
       "9996       84165.44                  0.48                          7   \n",
       "9997      128000.39                  0.25                          4   \n",
       "9998      118799.07                  0.35                          2   \n",
       "9999      116586.21                  0.38                          9   \n",
       "\n",
       "         investment_goals risk_appetite  investment_horizon_years  dependents  \\\n",
       "0              Retirement        Medium                         9           1   \n",
       "1           Home Purchase           Low                        19           3   \n",
       "2     Wealth Accumulation        Medium                        13           3   \n",
       "3              Retirement        Medium                         3           2   \n",
       "4               Education           Low                        19           0   \n",
       "...                   ...           ...                       ...         ...   \n",
       "9995           Retirement          High                        12           0   \n",
       "9996        Home Purchase           Low                        13           1   \n",
       "9997  Wealth Accumulation          High                        24           3   \n",
       "9998        Home Purchase        Medium                         4           1   \n",
       "9999            Education          High                        19           1   \n",
       "\n",
       "        preferred_asset_classes  savings_rate   net_worth  \\\n",
       "0      ['Bonds', 'Real Estate']          0.09   150946.53   \n",
       "1           ['Stocks', 'Bonds']          0.29  1072347.37   \n",
       "2       ['Real Estate', 'ETFs']          0.07   177370.90   \n",
       "3             ['Bonds', 'ETFs']          0.22   523811.23   \n",
       "4            ['ETFs', 'Stocks']          0.21   938672.67   \n",
       "...                         ...           ...         ...   \n",
       "9995    ['Real Estate', 'ETFs']          0.06   258673.50   \n",
       "9996  ['Real Estate', 'Stocks']          0.07   218772.30   \n",
       "9997        ['Stocks', 'Bonds']          0.26   670513.62   \n",
       "9998        ['Stocks', 'Bonds']          0.19  1174460.99   \n",
       "9999    ['Real Estate', 'ETFs']          0.13   501501.06   \n",
       "\n",
       "     recommended_strategy  forecasted_value_year_1  forecasted_value_year_2  \\\n",
       "0            Conservative             41357.803353             81489.888666   \n",
       "1            Conservative             45185.438200            132260.882306   \n",
       "2            Conservative             23555.621014             33145.981387   \n",
       "3                Balanced             17482.741334             38176.703590   \n",
       "4                Balanced             15862.092682             53750.147979   \n",
       "...                   ...                      ...                      ...   \n",
       "9995         Conservative            117903.396827            131293.901572   \n",
       "9996             Balanced             43248.612433             85190.436146   \n",
       "9997             Balanced             27995.942282             85940.830648   \n",
       "9998             Balanced             29862.426901             58443.845176   \n",
       "9999             Balanced             32743.269398             98159.333223   \n",
       "\n",
       "      forecasted_value_year_3 age_category  \n",
       "0                92882.024425       senior  \n",
       "1               145035.042824  middle_aged  \n",
       "2               148644.631373  middle_aged  \n",
       "3                51761.489080  middle_aged  \n",
       "4                83508.144058  middle_aged  \n",
       "...                       ...          ...  \n",
       "9995            144406.145967  middle_aged  \n",
       "9996            106506.775326  middle_aged  \n",
       "9997            131324.638243  middle_aged  \n",
       "9998             90821.387808        young  \n",
       "9999            144354.479482       senior  \n",
       "\n",
       "[9986 rows x 18 columns]>"
      ]
     },
     "execution_count": 515,
     "metadata": {},
     "output_type": "execute_result"
    }
   ],
   "source": [
    "merged_df.head"
   ]
  },
  {
   "cell_type": "code",
   "execution_count": 516,
   "metadata": {},
   "outputs": [],
   "source": [
    "classification_df = merged_df.drop(\n",
    "    [\"forecasted_value_year_1\", \"forecasted_value_year_2\", \"forecasted_value_year_3\"], \n",
    "    axis=1, errors='ignore'\n",
    ")"
   ]
  },
  {
   "cell_type": "code",
   "execution_count": 517,
   "metadata": {},
   "outputs": [
    {
     "data": {
      "text/html": [
       "<div>\n",
       "<style scoped>\n",
       "    .dataframe tbody tr th:only-of-type {\n",
       "        vertical-align: middle;\n",
       "    }\n",
       "\n",
       "    .dataframe tbody tr th {\n",
       "        vertical-align: top;\n",
       "    }\n",
       "\n",
       "    .dataframe thead th {\n",
       "        text-align: right;\n",
       "    }\n",
       "</style>\n",
       "<table border=\"1\" class=\"dataframe\">\n",
       "  <thead>\n",
       "    <tr style=\"text-align: right;\">\n",
       "      <th></th>\n",
       "      <th>client_id</th>\n",
       "      <th>gender</th>\n",
       "      <th>employment_status</th>\n",
       "      <th>annual_income</th>\n",
       "      <th>debt_to_income_ratio</th>\n",
       "      <th>financial_knowledge_score</th>\n",
       "      <th>investment_goals</th>\n",
       "      <th>risk_appetite</th>\n",
       "      <th>investment_horizon_years</th>\n",
       "      <th>dependents</th>\n",
       "      <th>preferred_asset_classes</th>\n",
       "      <th>savings_rate</th>\n",
       "      <th>net_worth</th>\n",
       "      <th>recommended_strategy</th>\n",
       "      <th>age_category</th>\n",
       "    </tr>\n",
       "  </thead>\n",
       "  <tbody>\n",
       "    <tr>\n",
       "      <th>0</th>\n",
       "      <td>96c4c0a3-bb3f-4ac1-81ad-0850cd29911f</td>\n",
       "      <td>Other</td>\n",
       "      <td>Salaried</td>\n",
       "      <td>61244.14</td>\n",
       "      <td>0.49</td>\n",
       "      <td>5</td>\n",
       "      <td>Retirement</td>\n",
       "      <td>Medium</td>\n",
       "      <td>9</td>\n",
       "      <td>1</td>\n",
       "      <td>['Bonds', 'Real Estate']</td>\n",
       "      <td>0.09</td>\n",
       "      <td>150946.53</td>\n",
       "      <td>Conservative</td>\n",
       "      <td>senior</td>\n",
       "    </tr>\n",
       "    <tr>\n",
       "      <th>1</th>\n",
       "      <td>35fb4c11-fb1a-4eeb-addc-bd6ff6cb7934</td>\n",
       "      <td>Male</td>\n",
       "      <td>Salaried</td>\n",
       "      <td>111338.35</td>\n",
       "      <td>0.39</td>\n",
       "      <td>1</td>\n",
       "      <td>Home Purchase</td>\n",
       "      <td>Low</td>\n",
       "      <td>19</td>\n",
       "      <td>3</td>\n",
       "      <td>['Stocks', 'Bonds']</td>\n",
       "      <td>0.29</td>\n",
       "      <td>1072347.37</td>\n",
       "      <td>Conservative</td>\n",
       "      <td>middle_aged</td>\n",
       "    </tr>\n",
       "    <tr>\n",
       "      <th>2</th>\n",
       "      <td>e5aafbe0-c869-41d9-acf1-1b019363e449</td>\n",
       "      <td>Other</td>\n",
       "      <td>Salaried</td>\n",
       "      <td>27581.32</td>\n",
       "      <td>0.12</td>\n",
       "      <td>5</td>\n",
       "      <td>Wealth Accumulation</td>\n",
       "      <td>Medium</td>\n",
       "      <td>13</td>\n",
       "      <td>3</td>\n",
       "      <td>['Real Estate', 'ETFs']</td>\n",
       "      <td>0.07</td>\n",
       "      <td>177370.90</td>\n",
       "      <td>Conservative</td>\n",
       "      <td>middle_aged</td>\n",
       "    </tr>\n",
       "    <tr>\n",
       "      <th>3</th>\n",
       "      <td>43b978dd-4dd5-4f21-96d2-63ab16c814a3</td>\n",
       "      <td>Other</td>\n",
       "      <td>Retired</td>\n",
       "      <td>64813.50</td>\n",
       "      <td>0.44</td>\n",
       "      <td>4</td>\n",
       "      <td>Retirement</td>\n",
       "      <td>Medium</td>\n",
       "      <td>3</td>\n",
       "      <td>2</td>\n",
       "      <td>['Bonds', 'ETFs']</td>\n",
       "      <td>0.22</td>\n",
       "      <td>523811.23</td>\n",
       "      <td>Balanced</td>\n",
       "      <td>middle_aged</td>\n",
       "    </tr>\n",
       "    <tr>\n",
       "      <th>4</th>\n",
       "      <td>abe77866-df1b-4a5c-ad96-eb78dff4ffc9</td>\n",
       "      <td>Male</td>\n",
       "      <td>Self-Employed</td>\n",
       "      <td>108668.65</td>\n",
       "      <td>0.35</td>\n",
       "      <td>2</td>\n",
       "      <td>Education</td>\n",
       "      <td>Low</td>\n",
       "      <td>19</td>\n",
       "      <td>0</td>\n",
       "      <td>['ETFs', 'Stocks']</td>\n",
       "      <td>0.21</td>\n",
       "      <td>938672.67</td>\n",
       "      <td>Balanced</td>\n",
       "      <td>middle_aged</td>\n",
       "    </tr>\n",
       "    <tr>\n",
       "      <th>...</th>\n",
       "      <td>...</td>\n",
       "      <td>...</td>\n",
       "      <td>...</td>\n",
       "      <td>...</td>\n",
       "      <td>...</td>\n",
       "      <td>...</td>\n",
       "      <td>...</td>\n",
       "      <td>...</td>\n",
       "      <td>...</td>\n",
       "      <td>...</td>\n",
       "      <td>...</td>\n",
       "      <td>...</td>\n",
       "      <td>...</td>\n",
       "      <td>...</td>\n",
       "      <td>...</td>\n",
       "    </tr>\n",
       "    <tr>\n",
       "      <th>9995</th>\n",
       "      <td>f17c2deb-f3f9-492a-9de5-8e36f1614b61</td>\n",
       "      <td>Other</td>\n",
       "      <td>Self-Employed</td>\n",
       "      <td>67150.52</td>\n",
       "      <td>0.20</td>\n",
       "      <td>9</td>\n",
       "      <td>Retirement</td>\n",
       "      <td>High</td>\n",
       "      <td>12</td>\n",
       "      <td>0</td>\n",
       "      <td>['Real Estate', 'ETFs']</td>\n",
       "      <td>0.06</td>\n",
       "      <td>258673.50</td>\n",
       "      <td>Conservative</td>\n",
       "      <td>middle_aged</td>\n",
       "    </tr>\n",
       "    <tr>\n",
       "      <th>9996</th>\n",
       "      <td>a3ec435d-688c-4790-b960-ce10d2d06f6e</td>\n",
       "      <td>Male</td>\n",
       "      <td>Salaried</td>\n",
       "      <td>84165.44</td>\n",
       "      <td>0.48</td>\n",
       "      <td>7</td>\n",
       "      <td>Home Purchase</td>\n",
       "      <td>Low</td>\n",
       "      <td>13</td>\n",
       "      <td>1</td>\n",
       "      <td>['Real Estate', 'Stocks']</td>\n",
       "      <td>0.07</td>\n",
       "      <td>218772.30</td>\n",
       "      <td>Balanced</td>\n",
       "      <td>middle_aged</td>\n",
       "    </tr>\n",
       "    <tr>\n",
       "      <th>9997</th>\n",
       "      <td>519ffef1-98fc-46bd-ba59-80f85787108a</td>\n",
       "      <td>Male</td>\n",
       "      <td>Salaried</td>\n",
       "      <td>128000.39</td>\n",
       "      <td>0.25</td>\n",
       "      <td>4</td>\n",
       "      <td>Wealth Accumulation</td>\n",
       "      <td>High</td>\n",
       "      <td>24</td>\n",
       "      <td>3</td>\n",
       "      <td>['Stocks', 'Bonds']</td>\n",
       "      <td>0.26</td>\n",
       "      <td>670513.62</td>\n",
       "      <td>Balanced</td>\n",
       "      <td>middle_aged</td>\n",
       "    </tr>\n",
       "    <tr>\n",
       "      <th>9998</th>\n",
       "      <td>2250d851-4753-470f-9b60-585d6f3ba747</td>\n",
       "      <td>Male</td>\n",
       "      <td>Salaried</td>\n",
       "      <td>118799.07</td>\n",
       "      <td>0.35</td>\n",
       "      <td>2</td>\n",
       "      <td>Home Purchase</td>\n",
       "      <td>Medium</td>\n",
       "      <td>4</td>\n",
       "      <td>1</td>\n",
       "      <td>['Stocks', 'Bonds']</td>\n",
       "      <td>0.19</td>\n",
       "      <td>1174460.99</td>\n",
       "      <td>Balanced</td>\n",
       "      <td>young</td>\n",
       "    </tr>\n",
       "    <tr>\n",
       "      <th>9999</th>\n",
       "      <td>41b1bc9d-b7ec-4092-803b-6ae2a1023605</td>\n",
       "      <td>Female</td>\n",
       "      <td>Unemployed</td>\n",
       "      <td>116586.21</td>\n",
       "      <td>0.38</td>\n",
       "      <td>9</td>\n",
       "      <td>Education</td>\n",
       "      <td>High</td>\n",
       "      <td>19</td>\n",
       "      <td>1</td>\n",
       "      <td>['Real Estate', 'ETFs']</td>\n",
       "      <td>0.13</td>\n",
       "      <td>501501.06</td>\n",
       "      <td>Balanced</td>\n",
       "      <td>senior</td>\n",
       "    </tr>\n",
       "  </tbody>\n",
       "</table>\n",
       "<p>9986 rows × 15 columns</p>\n",
       "</div>"
      ],
      "text/plain": [
       "                                 client_id  gender employment_status  \\\n",
       "0     96c4c0a3-bb3f-4ac1-81ad-0850cd29911f   Other          Salaried   \n",
       "1     35fb4c11-fb1a-4eeb-addc-bd6ff6cb7934    Male          Salaried   \n",
       "2     e5aafbe0-c869-41d9-acf1-1b019363e449   Other          Salaried   \n",
       "3     43b978dd-4dd5-4f21-96d2-63ab16c814a3   Other           Retired   \n",
       "4     abe77866-df1b-4a5c-ad96-eb78dff4ffc9    Male     Self-Employed   \n",
       "...                                    ...     ...               ...   \n",
       "9995  f17c2deb-f3f9-492a-9de5-8e36f1614b61   Other     Self-Employed   \n",
       "9996  a3ec435d-688c-4790-b960-ce10d2d06f6e    Male          Salaried   \n",
       "9997  519ffef1-98fc-46bd-ba59-80f85787108a    Male          Salaried   \n",
       "9998  2250d851-4753-470f-9b60-585d6f3ba747    Male          Salaried   \n",
       "9999  41b1bc9d-b7ec-4092-803b-6ae2a1023605  Female        Unemployed   \n",
       "\n",
       "      annual_income  debt_to_income_ratio  financial_knowledge_score  \\\n",
       "0          61244.14                  0.49                          5   \n",
       "1         111338.35                  0.39                          1   \n",
       "2          27581.32                  0.12                          5   \n",
       "3          64813.50                  0.44                          4   \n",
       "4         108668.65                  0.35                          2   \n",
       "...             ...                   ...                        ...   \n",
       "9995       67150.52                  0.20                          9   \n",
       "9996       84165.44                  0.48                          7   \n",
       "9997      128000.39                  0.25                          4   \n",
       "9998      118799.07                  0.35                          2   \n",
       "9999      116586.21                  0.38                          9   \n",
       "\n",
       "         investment_goals risk_appetite  investment_horizon_years  dependents  \\\n",
       "0              Retirement        Medium                         9           1   \n",
       "1           Home Purchase           Low                        19           3   \n",
       "2     Wealth Accumulation        Medium                        13           3   \n",
       "3              Retirement        Medium                         3           2   \n",
       "4               Education           Low                        19           0   \n",
       "...                   ...           ...                       ...         ...   \n",
       "9995           Retirement          High                        12           0   \n",
       "9996        Home Purchase           Low                        13           1   \n",
       "9997  Wealth Accumulation          High                        24           3   \n",
       "9998        Home Purchase        Medium                         4           1   \n",
       "9999            Education          High                        19           1   \n",
       "\n",
       "        preferred_asset_classes  savings_rate   net_worth  \\\n",
       "0      ['Bonds', 'Real Estate']          0.09   150946.53   \n",
       "1           ['Stocks', 'Bonds']          0.29  1072347.37   \n",
       "2       ['Real Estate', 'ETFs']          0.07   177370.90   \n",
       "3             ['Bonds', 'ETFs']          0.22   523811.23   \n",
       "4            ['ETFs', 'Stocks']          0.21   938672.67   \n",
       "...                         ...           ...         ...   \n",
       "9995    ['Real Estate', 'ETFs']          0.06   258673.50   \n",
       "9996  ['Real Estate', 'Stocks']          0.07   218772.30   \n",
       "9997        ['Stocks', 'Bonds']          0.26   670513.62   \n",
       "9998        ['Stocks', 'Bonds']          0.19  1174460.99   \n",
       "9999    ['Real Estate', 'ETFs']          0.13   501501.06   \n",
       "\n",
       "     recommended_strategy age_category  \n",
       "0            Conservative       senior  \n",
       "1            Conservative  middle_aged  \n",
       "2            Conservative  middle_aged  \n",
       "3                Balanced  middle_aged  \n",
       "4                Balanced  middle_aged  \n",
       "...                   ...          ...  \n",
       "9995         Conservative  middle_aged  \n",
       "9996             Balanced  middle_aged  \n",
       "9997             Balanced  middle_aged  \n",
       "9998             Balanced        young  \n",
       "9999             Balanced       senior  \n",
       "\n",
       "[9986 rows x 15 columns]"
      ]
     },
     "execution_count": 517,
     "metadata": {},
     "output_type": "execute_result"
    }
   ],
   "source": [
    "classification_df"
   ]
  },
  {
   "cell_type": "code",
   "execution_count": 518,
   "metadata": {},
   "outputs": [
    {
     "data": {
      "text/plain": [
       "Index(['client_id', 'gender', 'employment_status', 'annual_income',\n",
       "       'debt_to_income_ratio', 'financial_knowledge_score', 'investment_goals',\n",
       "       'risk_appetite', 'investment_horizon_years', 'dependents',\n",
       "       'preferred_asset_classes', 'savings_rate', 'net_worth',\n",
       "       'recommended_strategy', 'age_category'],\n",
       "      dtype='object')"
      ]
     },
     "execution_count": 518,
     "metadata": {},
     "output_type": "execute_result"
    }
   ],
   "source": [
    "classification_df.columns"
   ]
  },
  {
   "cell_type": "code",
   "execution_count": 519,
   "metadata": {},
   "outputs": [],
   "source": [
    "classification_df=classification_df.drop(\n",
    "    [\"investment_goals\",\"preferred_asset_classes\"], \n",
    "    axis=1, errors='ignore'\n",
    ")"
   ]
  },
  {
   "cell_type": "code",
   "execution_count": 520,
   "metadata": {},
   "outputs": [
    {
     "name": "stdout",
     "output_type": "stream",
     "text": [
      "                              client_id  gender  employment_status  \\\n",
      "0  96c4c0a3-bb3f-4ac1-81ad-0850cd29911f       2                  1   \n",
      "1  35fb4c11-fb1a-4eeb-addc-bd6ff6cb7934       1                  1   \n",
      "2  e5aafbe0-c869-41d9-acf1-1b019363e449       2                  1   \n",
      "3  43b978dd-4dd5-4f21-96d2-63ab16c814a3       2                  0   \n",
      "4  abe77866-df1b-4a5c-ad96-eb78dff4ffc9       1                  2   \n",
      "\n",
      "   annual_income  debt_to_income_ratio  financial_knowledge_score  \\\n",
      "0       61244.14                  0.49                          5   \n",
      "1      111338.35                  0.39                          1   \n",
      "2       27581.32                  0.12                          5   \n",
      "3       64813.50                  0.44                          4   \n",
      "4      108668.65                  0.35                          2   \n",
      "\n",
      "   risk_appetite  investment_horizon_years  dependents  savings_rate  \\\n",
      "0              2                         9           1          0.09   \n",
      "1              1                        19           3          0.29   \n",
      "2              2                        13           3          0.07   \n",
      "3              2                         3           2          0.22   \n",
      "4              1                        19           0          0.21   \n",
      "\n",
      "    net_worth  recommended_strategy  age_category  \n",
      "0   150946.53                     2             1  \n",
      "1  1072347.37                     2             0  \n",
      "2   177370.90                     2             0  \n",
      "3   523811.23                     1             0  \n",
      "4   938672.67                     1             0  \n"
     ]
    }
   ],
   "source": [
    "label_cols = ['gender', 'employment_status', 'risk_appetite', 'recommended_strategy', 'age_category']\n",
    "\n",
    "# Apply Label Encoding\n",
    "label_encoders = {}\n",
    "for col in label_cols:\n",
    "    le = LabelEncoder()\n",
    "    classification_df[col] = le.fit_transform(classification_df[col])  \n",
    "    label_encoders[col] = le  # Store encoders for inverse transform if needed\n",
    "\n",
    "# Apply One-Hot Encoding for preferred_asset_classes\n",
    "#classification_df = pd.get_dummies(classification_df, columns=['preferred_asset_classes'], prefix='asset_class')\n",
    "\n",
    "# Display processed DataFrame\n",
    "print(classification_df.head())"
   ]
  },
  {
   "cell_type": "code",
   "execution_count": 521,
   "metadata": {},
   "outputs": [
    {
     "data": {
      "text/plain": [
       "Index(['client_id', 'gender', 'employment_status', 'annual_income',\n",
       "       'debt_to_income_ratio', 'financial_knowledge_score', 'risk_appetite',\n",
       "       'investment_horizon_years', 'dependents', 'savings_rate', 'net_worth',\n",
       "       'recommended_strategy', 'age_category'],\n",
       "      dtype='object')"
      ]
     },
     "execution_count": 521,
     "metadata": {},
     "output_type": "execute_result"
    }
   ],
   "source": [
    "classification_df.columns"
   ]
  },
  {
   "cell_type": "code",
   "execution_count": 522,
   "metadata": {},
   "outputs": [],
   "source": [
    "strategy_counts = classification_df['recommended_strategy'].value_counts()"
   ]
  },
  {
   "cell_type": "code",
   "execution_count": 523,
   "metadata": {},
   "outputs": [
    {
     "data": {
      "text/plain": [
       "recommended_strategy\n",
       "1    5018\n",
       "2    3006\n",
       "0    1962\n",
       "Name: count, dtype: int64"
      ]
     },
     "execution_count": 523,
     "metadata": {},
     "output_type": "execute_result"
    }
   ],
   "source": [
    "strategy_counts"
   ]
  },
  {
   "cell_type": "code",
   "execution_count": 524,
   "metadata": {},
   "outputs": [],
   "source": [
    "from imblearn.over_sampling import SMOTE\n",
    "from collections import Counter"
   ]
  },
  {
   "cell_type": "code",
   "execution_count": 525,
   "metadata": {},
   "outputs": [
    {
     "data": {
      "text/plain": [
       "Index(['client_id', 'gender', 'employment_status', 'annual_income',\n",
       "       'debt_to_income_ratio', 'financial_knowledge_score', 'risk_appetite',\n",
       "       'investment_horizon_years', 'dependents', 'savings_rate', 'net_worth',\n",
       "       'recommended_strategy', 'age_category'],\n",
       "      dtype='object')"
      ]
     },
     "execution_count": 525,
     "metadata": {},
     "output_type": "execute_result"
    }
   ],
   "source": [
    "classification_df.columns"
   ]
  },
  {
   "cell_type": "code",
   "execution_count": 526,
   "metadata": {},
   "outputs": [],
   "source": [
    "classification_df=classification_df.drop(columns=['client_id'],axis=1, errors='ignore')"
   ]
  },
  {
   "cell_type": "code",
   "execution_count": 527,
   "metadata": {},
   "outputs": [
    {
     "name": "stdout",
     "output_type": "stream",
     "text": [
      "Class distribution before SMOTE: Counter({1: 5018, 2: 3006, 0: 1962})\n",
      "Class distribution after SMOTE: Counter({2: 5018, 1: 5018, 0: 5018})\n"
     ]
    }
   ],
   "source": [
    "X = classification_df.drop(columns=['recommended_strategy'])  # Features\n",
    "y = classification_df['recommended_strategy']  # Target\n",
    "\n",
    "# Display class distribution before SMOTE\n",
    "print(\"Class distribution before SMOTE:\", Counter(y))\n",
    "\n",
    "# Apply SMOTE to balance the dataset\n",
    "smote = SMOTE(sampling_strategy='auto', random_state=42)\n",
    "X_resampled, y_resampled = smote.fit_resample(X, y)\n",
    "\n",
    "# Create a new balanced DataFrame\n",
    "df_balanced = pd.concat([pd.DataFrame(X_resampled, columns=X.columns), pd.DataFrame(y_resampled, columns=['recommended_strategy'])], axis=1)\n",
    "\n",
    "# Display class distribution after SMOTE\n",
    "print(\"Class distribution after SMOTE:\", Counter(y_resampled))\n",
    "\n"
   ]
  },
  {
   "cell_type": "code",
   "execution_count": 528,
   "metadata": {},
   "outputs": [
    {
     "data": {
      "text/plain": [
       "(15054, 12)"
      ]
     },
     "execution_count": 528,
     "metadata": {},
     "output_type": "execute_result"
    }
   ],
   "source": [
    "df_balanced.shape"
   ]
  },
  {
   "cell_type": "code",
   "execution_count": 529,
   "metadata": {},
   "outputs": [],
   "source": [
    "df=df_balanced"
   ]
  },
  {
   "cell_type": "code",
   "execution_count": 530,
   "metadata": {},
   "outputs": [],
   "source": [
    "df['adjusted_income'] = df['annual_income'] * (1 - df['debt_to_income_ratio'])\n",
    "df['risk_tolerance_score'] = df['financial_knowledge_score'] * df['risk_appetite']\n",
    "df['long_term_risk'] = df['investment_horizon_years'] * df['risk_appetite']\n",
    "df['wealth_growth_potential'] = df['savings_rate'] * df['net_worth']\n",
    "df['income_stability_score'] = df['employment_status'] * df['annual_income']\n",
    "df['age_risk_factor'] = df['age_category'] * df['risk_appetite']\n",
    "df['family_responsibility_score'] = df['dependents'] * df['investment_horizon_years']"
   ]
  },
  {
   "cell_type": "code",
   "execution_count": 531,
   "metadata": {},
   "outputs": [
    {
     "name": "stdout",
     "output_type": "stream",
     "text": [
      "   gender  employment_status  annual_income  debt_to_income_ratio  \\\n",
      "0       2                  1       61244.14                  0.49   \n",
      "1       1                  1      111338.35                  0.39   \n",
      "2       2                  1       27581.32                  0.12   \n",
      "3       2                  0       64813.50                  0.44   \n",
      "4       1                  2      108668.65                  0.35   \n",
      "\n",
      "   financial_knowledge_score  risk_appetite  investment_horizon_years  \\\n",
      "0                          5              2                         9   \n",
      "1                          1              1                        19   \n",
      "2                          5              2                        13   \n",
      "3                          4              2                         3   \n",
      "4                          2              1                        19   \n",
      "\n",
      "   dependents  savings_rate   net_worth  age_category  recommended_strategy  \\\n",
      "0           1          0.09   150946.53             1                     2   \n",
      "1           3          0.29  1072347.37             0                     2   \n",
      "2           3          0.07   177370.90             0                     2   \n",
      "3           2          0.22   523811.23             0                     1   \n",
      "4           0          0.21   938672.67             0                     1   \n",
      "\n",
      "   adjusted_income  risk_tolerance_score  long_term_risk  \\\n",
      "0       31234.5114                    10              18   \n",
      "1       67916.3935                     1              19   \n",
      "2       24271.5616                    10              26   \n",
      "3       36295.5600                     8               6   \n",
      "4       70634.6225                     2              19   \n",
      "\n",
      "   wealth_growth_potential  income_stability_score  age_risk_factor  \\\n",
      "0               13585.1877                61244.14                2   \n",
      "1              310980.7373               111338.35                0   \n",
      "2               12415.9630                27581.32                0   \n",
      "3              115238.4706                    0.00                0   \n",
      "4              197121.2607               217337.30                0   \n",
      "\n",
      "   family_responsibility_score  \n",
      "0                            9  \n",
      "1                           57  \n",
      "2                           39  \n",
      "3                            6  \n",
      "4                            0  \n"
     ]
    }
   ],
   "source": [
    "# Save the balanced dataset (Optional)\n",
    "df_balanced.to_csv(\"balanced_dataset.csv\", index=False)\n",
    "\n",
    "# Display first few rows of balanced dataset\n",
    "print(df_balanced.head())"
   ]
  },
  {
   "cell_type": "code",
   "execution_count": 532,
   "metadata": {},
   "outputs": [
    {
     "data": {
      "image/png": "[encoded data removed]",
      "text/plain": [
       "<Figure size 1000x600 with 1 Axes>"
      ]
     },
     "metadata": {},
     "output_type": "display_data"
    }
   ],
   "source": [
    "from sklearn.ensemble import RandomForestClassifier\n",
    "import numpy as np\n",
    "import matplotlib.pyplot as plt\n",
    "\n",
    "# Train Random Forest\n",
    "rf = RandomForestClassifier(n_estimators=100, random_state=42)\n",
    "rf.fit(df.drop(columns=['recommended_strategy']), df['recommended_strategy'])\n",
    "\n",
    "# Plot Feature Importance\n",
    "importances = rf.feature_importances_\n",
    "indices = np.argsort(importances)[::-1]\n",
    "\n",
    "plt.figure(figsize=(10, 6))\n",
    "plt.title(\"Feature Importance (With Interaction Features)\")\n",
    "plt.bar(range(len(importances)), importances[indices], align=\"center\")\n",
    "plt.xticks(range(len(importances)), df.drop(columns=['recommended_strategy']).columns[indices], rotation=90)\n",
    "plt.show()\n"
   ]
  },
  {
   "cell_type": "code",
   "execution_count": 533,
   "metadata": {},
   "outputs": [
    {
     "data": {
      "text/plain": [
       "array([0.02542882, 0.02607507, 0.09127738, 0.08981346, 0.05168585,\n",
       "       0.01239866, 0.0633035 , 0.02676   , 0.0835623 , 0.09636428,\n",
       "       0.0164532 , 0.09006269, 0.04251508, 0.0526034 , 0.09020579,\n",
       "       0.07187585, 0.01241511, 0.05719957])"
      ]
     },
     "execution_count": 533,
     "metadata": {},
     "output_type": "execute_result"
    }
   ],
   "source": [
    "importances"
   ]
  },
  {
   "cell_type": "code",
   "execution_count": null,
   "metadata": {},
   "outputs": [],
   "source": []
  },
  {
   "cell_type": "code",
   "execution_count": 535,
   "metadata": {},
   "outputs": [],
   "source": [
    "df=df.drop(columns=['risk_appetite','age_risk_factor','age_category','gender', 'employment_status','dependents','risk_tolerance_score'])"
   ]
  },
  {
   "cell_type": "code",
   "execution_count": 536,
   "metadata": {},
   "outputs": [
    {
     "data": {
      "text/html": [
       "<div>\n",
       "<style scoped>\n",
       "    .dataframe tbody tr th:only-of-type {\n",
       "        vertical-align: middle;\n",
       "    }\n",
       "\n",
       "    .dataframe tbody tr th {\n",
       "        vertical-align: top;\n",
       "    }\n",
       "\n",
       "    .dataframe thead th {\n",
       "        text-align: right;\n",
       "    }\n",
       "</style>\n",
       "<table border=\"1\" class=\"dataframe\">\n",
       "  <thead>\n",
       "    <tr style=\"text-align: right;\">\n",
       "      <th></th>\n",
       "      <th>annual_income</th>\n",
       "      <th>debt_to_income_ratio</th>\n",
       "      <th>financial_knowledge_score</th>\n",
       "      <th>investment_horizon_years</th>\n",
       "      <th>savings_rate</th>\n",
       "      <th>net_worth</th>\n",
       "      <th>recommended_strategy</th>\n",
       "      <th>adjusted_income</th>\n",
       "      <th>long_term_risk</th>\n",
       "      <th>wealth_growth_potential</th>\n",
       "      <th>income_stability_score</th>\n",
       "      <th>family_responsibility_score</th>\n",
       "    </tr>\n",
       "  </thead>\n",
       "  <tbody>\n",
       "    <tr>\n",
       "      <th>0</th>\n",
       "      <td>61244.140000</td>\n",
       "      <td>0.490000</td>\n",
       "      <td>5</td>\n",
       "      <td>9</td>\n",
       "      <td>0.090000</td>\n",
       "      <td>1.509465e+05</td>\n",
       "      <td>2</td>\n",
       "      <td>31234.511400</td>\n",
       "      <td>18</td>\n",
       "      <td>13585.187700</td>\n",
       "      <td>61244.140000</td>\n",
       "      <td>9</td>\n",
       "    </tr>\n",
       "    <tr>\n",
       "      <th>1</th>\n",
       "      <td>111338.350000</td>\n",
       "      <td>0.390000</td>\n",
       "      <td>1</td>\n",
       "      <td>19</td>\n",
       "      <td>0.290000</td>\n",
       "      <td>1.072347e+06</td>\n",
       "      <td>2</td>\n",
       "      <td>67916.393500</td>\n",
       "      <td>19</td>\n",
       "      <td>310980.737300</td>\n",
       "      <td>111338.350000</td>\n",
       "      <td>57</td>\n",
       "    </tr>\n",
       "    <tr>\n",
       "      <th>2</th>\n",
       "      <td>27581.320000</td>\n",
       "      <td>0.120000</td>\n",
       "      <td>5</td>\n",
       "      <td>13</td>\n",
       "      <td>0.070000</td>\n",
       "      <td>1.773709e+05</td>\n",
       "      <td>2</td>\n",
       "      <td>24271.561600</td>\n",
       "      <td>26</td>\n",
       "      <td>12415.963000</td>\n",
       "      <td>27581.320000</td>\n",
       "      <td>39</td>\n",
       "    </tr>\n",
       "    <tr>\n",
       "      <th>3</th>\n",
       "      <td>64813.500000</td>\n",
       "      <td>0.440000</td>\n",
       "      <td>4</td>\n",
       "      <td>3</td>\n",
       "      <td>0.220000</td>\n",
       "      <td>5.238112e+05</td>\n",
       "      <td>1</td>\n",
       "      <td>36295.560000</td>\n",
       "      <td>6</td>\n",
       "      <td>115238.470600</td>\n",
       "      <td>0.000000</td>\n",
       "      <td>6</td>\n",
       "    </tr>\n",
       "    <tr>\n",
       "      <th>4</th>\n",
       "      <td>108668.650000</td>\n",
       "      <td>0.350000</td>\n",
       "      <td>2</td>\n",
       "      <td>19</td>\n",
       "      <td>0.210000</td>\n",
       "      <td>9.386727e+05</td>\n",
       "      <td>1</td>\n",
       "      <td>70634.622500</td>\n",
       "      <td>19</td>\n",
       "      <td>197121.260700</td>\n",
       "      <td>217337.300000</td>\n",
       "      <td>0</td>\n",
       "    </tr>\n",
       "    <tr>\n",
       "      <th>...</th>\n",
       "      <td>...</td>\n",
       "      <td>...</td>\n",
       "      <td>...</td>\n",
       "      <td>...</td>\n",
       "      <td>...</td>\n",
       "      <td>...</td>\n",
       "      <td>...</td>\n",
       "      <td>...</td>\n",
       "      <td>...</td>\n",
       "      <td>...</td>\n",
       "      <td>...</td>\n",
       "      <td>...</td>\n",
       "    </tr>\n",
       "    <tr>\n",
       "      <th>15049</th>\n",
       "      <td>106245.825821</td>\n",
       "      <td>0.370242</td>\n",
       "      <td>4</td>\n",
       "      <td>18</td>\n",
       "      <td>0.140000</td>\n",
       "      <td>7.385956e+05</td>\n",
       "      <td>2</td>\n",
       "      <td>66909.119178</td>\n",
       "      <td>18</td>\n",
       "      <td>103403.383421</td>\n",
       "      <td>0.000000</td>\n",
       "      <td>36</td>\n",
       "    </tr>\n",
       "    <tr>\n",
       "      <th>15050</th>\n",
       "      <td>92422.043507</td>\n",
       "      <td>0.273877</td>\n",
       "      <td>2</td>\n",
       "      <td>17</td>\n",
       "      <td>0.221335</td>\n",
       "      <td>7.598742e+05</td>\n",
       "      <td>2</td>\n",
       "      <td>67109.777956</td>\n",
       "      <td>34</td>\n",
       "      <td>168186.690259</td>\n",
       "      <td>0.000000</td>\n",
       "      <td>51</td>\n",
       "    </tr>\n",
       "    <tr>\n",
       "      <th>15051</th>\n",
       "      <td>64389.634740</td>\n",
       "      <td>0.377960</td>\n",
       "      <td>5</td>\n",
       "      <td>26</td>\n",
       "      <td>0.212880</td>\n",
       "      <td>3.589237e+05</td>\n",
       "      <td>2</td>\n",
       "      <td>40052.907578</td>\n",
       "      <td>52</td>\n",
       "      <td>76407.702519</td>\n",
       "      <td>64389.634740</td>\n",
       "      <td>0</td>\n",
       "    </tr>\n",
       "    <tr>\n",
       "      <th>15052</th>\n",
       "      <td>107382.726387</td>\n",
       "      <td>0.313802</td>\n",
       "      <td>1</td>\n",
       "      <td>16</td>\n",
       "      <td>0.223049</td>\n",
       "      <td>1.043035e+06</td>\n",
       "      <td>2</td>\n",
       "      <td>73685.861966</td>\n",
       "      <td>16</td>\n",
       "      <td>232647.921835</td>\n",
       "      <td>0.000000</td>\n",
       "      <td>0</td>\n",
       "    </tr>\n",
       "    <tr>\n",
       "      <th>15053</th>\n",
       "      <td>50728.012818</td>\n",
       "      <td>0.300509</td>\n",
       "      <td>4</td>\n",
       "      <td>11</td>\n",
       "      <td>0.175294</td>\n",
       "      <td>3.667976e+05</td>\n",
       "      <td>2</td>\n",
       "      <td>35483.763161</td>\n",
       "      <td>0</td>\n",
       "      <td>64297.395143</td>\n",
       "      <td>101456.025635</td>\n",
       "      <td>33</td>\n",
       "    </tr>\n",
       "  </tbody>\n",
       "</table>\n",
       "<p>15054 rows × 12 columns</p>\n",
       "</div>"
      ],
      "text/plain": [
       "       annual_income  debt_to_income_ratio  financial_knowledge_score  \\\n",
       "0       61244.140000              0.490000                          5   \n",
       "1      111338.350000              0.390000                          1   \n",
       "2       27581.320000              0.120000                          5   \n",
       "3       64813.500000              0.440000                          4   \n",
       "4      108668.650000              0.350000                          2   \n",
       "...              ...                   ...                        ...   \n",
       "15049  106245.825821              0.370242                          4   \n",
       "15050   92422.043507              0.273877                          2   \n",
       "15051   64389.634740              0.377960                          5   \n",
       "15052  107382.726387              0.313802                          1   \n",
       "15053   50728.012818              0.300509                          4   \n",
       "\n",
       "       investment_horizon_years  savings_rate     net_worth  \\\n",
       "0                             9      0.090000  1.509465e+05   \n",
       "1                            19      0.290000  1.072347e+06   \n",
       "2                            13      0.070000  1.773709e+05   \n",
       "3                             3      0.220000  5.238112e+05   \n",
       "4                            19      0.210000  9.386727e+05   \n",
       "...                         ...           ...           ...   \n",
       "15049                        18      0.140000  7.385956e+05   \n",
       "15050                        17      0.221335  7.598742e+05   \n",
       "15051                        26      0.212880  3.589237e+05   \n",
       "15052                        16      0.223049  1.043035e+06   \n",
       "15053                        11      0.175294  3.667976e+05   \n",
       "\n",
       "       recommended_strategy  adjusted_income  long_term_risk  \\\n",
       "0                         2     31234.511400              18   \n",
       "1                         2     67916.393500              19   \n",
       "2                         2     24271.561600              26   \n",
       "3                         1     36295.560000               6   \n",
       "4                         1     70634.622500              19   \n",
       "...                     ...              ...             ...   \n",
       "15049                     2     66909.119178              18   \n",
       "15050                     2     67109.777956              34   \n",
       "15051                     2     40052.907578              52   \n",
       "15052                     2     73685.861966              16   \n",
       "15053                     2     35483.763161               0   \n",
       "\n",
       "       wealth_growth_potential  income_stability_score  \\\n",
       "0                 13585.187700            61244.140000   \n",
       "1                310980.737300           111338.350000   \n",
       "2                 12415.963000            27581.320000   \n",
       "3                115238.470600                0.000000   \n",
       "4                197121.260700           217337.300000   \n",
       "...                        ...                     ...   \n",
       "15049            103403.383421                0.000000   \n",
       "15050            168186.690259                0.000000   \n",
       "15051             76407.702519            64389.634740   \n",
       "15052            232647.921835                0.000000   \n",
       "15053             64297.395143           101456.025635   \n",
       "\n",
       "       family_responsibility_score  \n",
       "0                                9  \n",
       "1                               57  \n",
       "2                               39  \n",
       "3                                6  \n",
       "4                                0  \n",
       "...                            ...  \n",
       "15049                           36  \n",
       "15050                           51  \n",
       "15051                            0  \n",
       "15052                            0  \n",
       "15053                           33  \n",
       "\n",
       "[15054 rows x 12 columns]"
      ]
     },
     "execution_count": 536,
     "metadata": {},
     "output_type": "execute_result"
    }
   ],
   "source": [
    "df"
   ]
  },
  {
   "cell_type": "code",
   "execution_count": 537,
   "metadata": {},
   "outputs": [],
   "source": [
    "X1 = df.drop(columns=['recommended_strategy'])  # Features\n",
    "y1 = df['recommended_strategy']  # Target Variable\n",
    "\n",
    "# Split into training and test set (80-20 split)\n",
    "X_train, X_test, y_train, y_test = train_test_split(X1, y1, test_size=0.2, random_state=42, stratify=y1)\n"
   ]
  },
  {
   "cell_type": "code",
   "execution_count": null,
   "metadata": {},
   "outputs": [],
   "source": [
    "# from sklearn.model_selection import GridSearchCV\n",
    "\n",
    "# param_grid = {\n",
    "#     'n_estimators': [100, 300, 500, 700],  \n",
    "#     'max_depth': [10, 20, 30, None],  \n",
    "#     'min_samples_split': [2, 5, 10],  \n",
    "#     'min_samples_leaf': [1, 2, 4]  \n",
    "# }\n",
    "\n",
    "# grid_search = GridSearchCV(RandomForestClassifier(random_state=42), param_grid, cv=5, n_jobs=-1, verbose=2)\n",
    "# grid_search.fit(X_train, y_train)\n",
    "\n",
    "# # Best Parameters\n",
    "# print(grid_search.best_params_)\n",
    "\n",
    "# # Train Model with Best Parameters\n",
    "# rf_model = RandomForestClassifier(**grid_search.best_params_, random_state=42)\n",
    "# rf_model.fit(X_train, y_train)\n"
   ]
  },
  {
   "cell_type": "code",
   "execution_count": null,
   "metadata": {},
   "outputs": [],
   "source": [
    "\n",
    "from sklearn.ensemble import RandomForestClassifier\n",
    "from xgboost import XGBClassifier\n",
    "from lightgbm import LGBMClassifier\n",
    "from catboost import CatBoostClassifier\n",
    "from sklearn.model_selection import train_test_split\n",
    "from sklearn.metrics import accuracy_score\n"
   ]
  },
  {
   "cell_type": "code",
   "execution_count": 539,
   "metadata": {},
   "outputs": [
    {
     "name": "stdout",
     "output_type": "stream",
     "text": [
      "[LightGBM] [Info] Auto-choosing col-wise multi-threading, the overhead of testing was 0.001138 seconds.\n",
      "You can set `force_col_wise=true` to remove the overhead.\n",
      "[LightGBM] [Info] Total Bins 1925\n",
      "[LightGBM] [Info] Number of data points in the train set: 12043, number of used features: 11\n",
      "[LightGBM] [Info] Start training from score -1.098446\n",
      "[LightGBM] [Info] Start training from score -1.098695\n",
      "[LightGBM] [Info] Start training from score -1.098695\n",
      "[LightGBM] [Warning] No further splits with positive gain, best gain: -inf\n",
      "[LightGBM] [Warning] No further splits with positive gain, best gain: -inf\n",
      "[LightGBM] [Warning] No further splits with positive gain, best gain: -inf\n",
      "[LightGBM] [Warning] No further splits with positive gain, best gain: -inf\n",
      "[LightGBM] [Warning] No further splits with positive gain, best gain: -inf\n",
      "[LightGBM] [Warning] No further splits with positive gain, best gain: -inf\n",
      "[LightGBM] [Warning] No further splits with positive gain, best gain: -inf\n",
      "[LightGBM] [Warning] No further splits with positive gain, best gain: -inf\n",
      "[LightGBM] [Warning] No further splits with positive gain, best gain: -inf\n",
      "[LightGBM] [Warning] No further splits with positive gain, best gain: -inf\n",
      "[LightGBM] [Warning] No further splits with positive gain, best gain: -inf\n",
      "[LightGBM] [Warning] No further splits with positive gain, best gain: -inf\n",
      "[LightGBM] [Warning] No further splits with positive gain, best gain: -inf\n",
      "[LightGBM] [Warning] No further splits with positive gain, best gain: -inf\n",
      "[LightGBM] [Warning] No further splits with positive gain, best gain: -inf\n",
      "[LightGBM] [Warning] No further splits with positive gain, best gain: -inf\n",
      "[LightGBM] [Warning] No further splits with positive gain, best gain: -inf\n",
      "[LightGBM] [Warning] No further splits with positive gain, best gain: -inf\n",
      "[LightGBM] [Warning] No further splits with positive gain, best gain: -inf\n",
      "[LightGBM] [Warning] No further splits with positive gain, best gain: -inf\n",
      "[LightGBM] [Warning] No further splits with positive gain, best gain: -inf\n",
      "[LightGBM] [Warning] No further splits with positive gain, best gain: -inf\n",
      "[LightGBM] [Warning] No further splits with positive gain, best gain: -inf\n",
      "[LightGBM] [Warning] No further splits with positive gain, best gain: -inf\n",
      "[LightGBM] [Warning] No further splits with positive gain, best gain: -inf\n",
      "[LightGBM] [Warning] No further splits with positive gain, best gain: -inf\n",
      "[LightGBM] [Warning] No further splits with positive gain, best gain: -inf\n",
      "[LightGBM] [Warning] No further splits with positive gain, best gain: -inf\n",
      "[LightGBM] [Warning] No further splits with positive gain, best gain: -inf\n"
     ]
    }
   ],
   "source": [
    "# Dictionary to store results\n",
    "model_results = {}\n",
    "\n",
    "# 1️⃣ Random Forest\n",
    "rf_model = RandomForestClassifier(n_estimators=500, max_depth=20, random_state=42)\n",
    "rf_model.fit(X_train, y_train)\n",
    "rf_train_acc = accuracy_score(y_train, rf_model.predict(X_train))\n",
    "rf_test_acc = accuracy_score(y_test, rf_model.predict(X_test))\n",
    "model_results['RandomForest'] = {'Train Accuracy': rf_train_acc, 'Test Accuracy': rf_test_acc}\n",
    "\n",
    "# 2️⃣ XGBoost\n",
    "xgb_model = XGBClassifier(n_estimators=300, learning_rate=0.1, max_depth=10, random_state=42, use_label_encoder=False, eval_metric='mlogloss')\n",
    "xgb_model.fit(X_train, y_train)\n",
    "xgb_train_acc = accuracy_score(y_train, xgb_model.predict(X_train))\n",
    "xgb_test_acc = accuracy_score(y_test, xgb_model.predict(X_test))\n",
    "model_results['XGBoost'] = {'Train Accuracy': xgb_train_acc, 'Test Accuracy': xgb_test_acc}\n",
    "\n",
    "# 3️⃣ LightGBM\n",
    "lgb_model = LGBMClassifier(n_estimators=300, learning_rate=0.1, max_depth=10, random_state=42)\n",
    "lgb_model.fit(X_train, y_train)\n",
    "lgb_train_acc = accuracy_score(y_train, lgb_model.predict(X_train))\n",
    "lgb_test_acc = accuracy_score(y_test, lgb_model.predict(X_test))\n",
    "model_results['LightGBM'] = {'Train Accuracy': lgb_train_acc, 'Test Accuracy': lgb_test_acc}\n",
    "\n",
    "# 4️⃣ CatBoost\n",
    "cat_model = CatBoostClassifier(n_estimators=300, learning_rate=0.1, max_depth=10, random_state=42, verbose=0)\n",
    "cat_model.fit(X_train, y_train)\n",
    "cat_train_acc = accuracy_score(y_train, cat_model.predict(X_train))\n",
    "cat_test_acc = accuracy_score(y_test, cat_model.predict(X_test))\n",
    "model_results['CatBoost'] = {'Train Accuracy': cat_train_acc, 'Test Accuracy': cat_test_acc}\n"
   ]
  },
  {
   "cell_type": "code",
   "execution_count": 540,
   "metadata": {},
   "outputs": [
    {
     "name": "stdout",
     "output_type": "stream",
     "text": [
      "              Train Accuracy  Test Accuracy\n",
      "RandomForest        0.987877       0.553637\n",
      "XGBoost             1.000000       0.586848\n",
      "LightGBM            0.952753       0.571903\n",
      "CatBoost            0.950843       0.538359\n"
     ]
    }
   ],
   "source": [
    "results_df = pd.DataFrame(model_results).T\n",
    "print(results_df)"
   ]
  },
  {
   "cell_type": "code",
   "execution_count": 541,
   "metadata": {},
   "outputs": [
    {
     "name": "stdout",
     "output_type": "stream",
     "text": [
      "Confusion Matrix for RandomForest:\n"
     ]
    },
    {
     "data": {
      "image/png": "[encoded data removed]",
      "text/plain": [
       "<Figure size 600x400 with 2 Axes>"
      ]
     },
     "metadata": {},
     "output_type": "display_data"
    },
    {
     "name": "stdout",
     "output_type": "stream",
     "text": [
      "Confusion Matrix for XGBoost:\n"
     ]
    },
    {
     "data": {
      "image/png": "[encoded data removed]",
      "text/plain": [
       "<Figure size 600x400 with 2 Axes>"
      ]
     },
     "metadata": {},
     "output_type": "display_data"
    },
    {
     "name": "stdout",
     "output_type": "stream",
     "text": [
      "Confusion Matrix for LightGBM:\n"
     ]
    },
    {
     "data": {
      "image/png": "[encoded data removed]",
      "text/plain": [
       "<Figure size 600x400 with 2 Axes>"
      ]
     },
     "metadata": {},
     "output_type": "display_data"
    },
    {
     "name": "stdout",
     "output_type": "stream",
     "text": [
      "Confusion Matrix for CatBoost:\n"
     ]
    },
    {
     "data": {
      "image/png": "[encoded data removed]",
      "text/plain": [
       "<Figure size 600x400 with 2 Axes>"
      ]
     },
     "metadata": {},
     "output_type": "display_data"
    }
   ],
   "source": [
    "from sklearn.metrics import confusion_matrix\n",
    "import seaborn as sns\n",
    "import matplotlib.pyplot as plt\n",
    "\n",
    "# Function to plot confusion matrix\n",
    "def plot_confusion_matrix(y_true, y_pred, model_name):\n",
    "    cm = confusion_matrix(y_true, y_pred)\n",
    "    plt.figure(figsize=(6, 4))\n",
    "    sns.heatmap(cm, annot=True, fmt=\"d\", cmap=\"Blues\", xticklabels=np.unique(y_true), yticklabels=np.unique(y_true))\n",
    "    plt.xlabel(\"Predicted Label\")\n",
    "    plt.ylabel(\"True Label\")\n",
    "    plt.title(f\"Confusion Matrix - {model_name}\")\n",
    "    plt.show()\n",
    "\n",
    "# Compute confusion matrices for all models\n",
    "models = {\n",
    "    \"RandomForest\": rf_model,\n",
    "    \"XGBoost\": xgb_model,\n",
    "    \"LightGBM\": lgb_model,\n",
    "    \"CatBoost\": cat_model\n",
    "}\n",
    "\n",
    "for model_name, model in models.items():\n",
    "    y_pred = model.predict(X_test)\n",
    "    print(f\"Confusion Matrix for {model_name}:\")\n",
    "    plot_confusion_matrix(y_test, y_pred, model_name)\n"
   ]
  },
  {
   "cell_type": "code",
   "execution_count": null,
   "metadata": {},
   "outputs": [],
   "source": [
    "\n",
    "# from sklearn.model_selection import train_test_split\n",
    "# from sklearn.ensemble import RandomForestClassifier\n",
    "# from sklearn.metrics import accuracy_score, classification_report, confusion_matrix\n",
    "\n",
    "\n",
    "\n",
    "# # Split dataset into 80% train, 20% test\n",
    "# X_train, X_test, y_train, y_test = train_test_split(X_resampled, y_resampled, test_size=0.2, random_state=42, stratify=y_resampled)\n",
    "\n",
    "# # Initialize and train Random Forest Classifier\n",
    "# clf = RandomForestClassifier(n_estimators=500, random_state=42)\n",
    "# clf.fit(X_train, y_train)\n",
    "\n",
    "# # Predict on test set\n",
    "# y_pred = clf.predict(X_test)\n",
    "\n",
    "# # Evaluate Model Performance\n",
    "# accuracy = accuracy_score(y_test, y_pred)\n",
    "# print(f\"Model Accuracy: {accuracy:.4f}\")\n",
    "\n",
    "# # Print Classification Report\n",
    "# print(\"\\nClassification Report:\")\n",
    "# print(classification_report(y_test, y_pred))\n",
    "\n",
    "# # Print Confusion Matrix\n",
    "# print(\"\\nConfusion Matrix:\")\n",
    "# print(confusion_matrix(y_test, y_pred))\n"
   ]
  },
  {
   "cell_type": "code",
   "execution_count": null,
   "metadata": {},
   "outputs": [],
   "source": [
    "# y_train"
   ]
  },
  {
   "cell_type": "code",
   "execution_count": null,
   "metadata": {},
   "outputs": [],
   "source": [
    "# from sklearn.ensemble import RandomForestClassifier\n",
    "# from sklearn.model_selection import RandomizedSearchCV\n",
    "\n",
    "# # Define parameter grid\n",
    "# param_grid = {\n",
    "#     'n_estimators': [500, 200, 300],  # Number of trees\n",
    "#     'max_depth': [10, 20, 30, None],  # Tree depth\n",
    "#     'min_samples_split': [2, 5, 10],  # Minimum samples for splitting\n",
    "#     'min_samples_leaf': [1, 2, 4],  # Minimum samples per leaf\n",
    "#     'bootstrap': [True, False]  # Bootstrap sampling\n",
    "# }\n",
    "\n",
    "# # Initialize Random Forest\n",
    "# rf = RandomForestClassifier(random_state=42)\n",
    "\n",
    "# # Perform Randomized Search\n",
    "# rf_random = RandomizedSearchCV(\n",
    "#     estimator=rf, param_distributions=param_grid, \n",
    "#     n_iter=20, cv=3, verbose=2, n_jobs=-1, random_state=42\n",
    "# )\n",
    "\n",
    "# # Fit on training data\n",
    "# rf_random.fit(X_train, y_train)\n",
    "\n",
    "# # Get best parameters\n",
    "# print(\"Best Parameters:\", rf_random.best_params_)\n",
    "\n",
    "# # Train best model\n",
    "# best_rf = rf_random.best_estimator_\n"
   ]
  },
  {
   "cell_type": "code",
   "execution_count": null,
   "metadata": {},
   "outputs": [],
   "source": [
    "# best_rf = RandomForestClassifier(\n",
    "#     n_estimators=300, max_depth=20, min_samples_split=5, \n",
    "#     min_samples_leaf=2, bootstrap=False, class_weight='balanced', random_state=42\n",
    "# )\n",
    "# best_rf.fit(X_train, y_train)\n",
    "\n",
    "# # Predict\n",
    "# y_pred = best_rf.predict(X_test)\n",
    "\n",
    "# # Evaluate\n",
    "# accuracy = accuracy_score(y_test, y_pred)\n",
    "# print(f\"Final Model Accuracy: {accuracy:.4f}\")\n"
   ]
  },
  {
   "cell_type": "code",
   "execution_count": null,
   "metadata": {},
   "outputs": [],
   "source": [
    "# train_accuracy = accuracy_score(y_train, best_rf.predict(X_train))\n",
    "# print(f\"Final Model Accuracy: {train_accuracy:.4f}\")"
   ]
  },
  {
   "cell_type": "code",
   "execution_count": null,
   "metadata": {},
   "outputs": [],
   "source": [
    "# import matplotlib.pyplot as plt\n",
    "# import numpy as np\n",
    "\n",
    "# # Get feature importance\n",
    "# feature_importances = best_rf.feature_importances_\n",
    "\n",
    "# # Plot top features\n",
    "# indices = np.argsort(feature_importances)[::-1]\n",
    "# plt.figure(figsize=(10, 6))\n",
    "# plt.title(\"Feature Importance\")\n",
    "# plt.bar(range(len(feature_importances)), feature_importances[indices], align=\"center\")\n",
    "# plt.xticks(range(len(feature_importances)), X_train.columns[indices], rotation=90)\n",
    "# plt.show()\n"
   ]
  },
  {
   "cell_type": "code",
   "execution_count": null,
   "metadata": {},
   "outputs": [],
   "source": [
    "y_test.shape"
   ]
  }
 ],
 "metadata": {
  "kernelspec": {
   "display_name": "Python 3",
   "language": "python",
   "name": "python3"
  },
  "language_info": {
   "codemirror_mode": {
    "name": "ipython",
    "version": 3
   },
   "file_extension": ".py",
   "mimetype": "text/x-python",
   "name": "python",
   "nbconvert_exporter": "python",
   "pygments_lexer": "ipython3",
   "version": "3.12.2"
  }
 },
 "nbformat": 4,
 "nbformat_minor": 2
}
