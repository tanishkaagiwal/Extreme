{
 "cells": [
  {
   "cell_type": "code",
   "execution_count": null,
   "metadata": {},
   "outputs": [],
   "source": [
    "#Generating csvs for each macro scenario\n",
    "import pandas as pd\n",
    "import numpy as np\n",
    "\n",
    "# Load datasets\n",
    "timeseries_file = r\"E:\\Hackathon\\time_series_data.csv\"  # Replace with actual file path\n",
    "macro_file = r\"E:\\Hackathon\\macro_scenarios.csv\"  # Replace with actual file path\n",
    "\n",
    "df = pd.read_csv(timeseries_file)\n",
    "macro_df = pd.read_csv(macro_file)\n",
    "\n",
    "# Select 1000 unique clients randomly (ensuring consistency across all scenarios)\n",
    "unique_clients = df[\"client_id\"].unique()\n",
    "selected_clients = np.random.choice(unique_clients, 1000, replace=False)\n",
    "\n",
    "# Filter dataset for selected clients\n",
    "df_selected = df[df[\"client_id\"].isin(selected_clients)]\n",
    "\n",
    "# Process for each macroeconomic scenario\n",
    "for index, scenario in macro_df.iterrows():\n",
    "    scenario_id = scenario[\"scenario_id\"]\n",
    "    equity_impact = scenario[\"equity_impact\"]\n",
    "    fixed_income_impact = scenario[\"fixed_income_impact\"]\n",
    "    macroeconomic_score_adjustment = scenario[\"macroeconomic_score_adjustment\"]\n",
    "    sentiment_index_adjustment = scenario[\"sentiment_index_adjustment\"]\n",
    "    interest_rate_change = scenario[\"interest_rate_change\"]\n",
    "\n",
    "    # Create a copy of the filtered dataset to apply scenario adjustments\n",
    "    df_adjusted = df_selected.copy()\n",
    "    df_adjusted[\"equity_allocation_pct\"] *= (1 + equity_impact)\n",
    "    df_adjusted[\"fixed_income_allocation_pct\"] *= (1 + fixed_income_impact)\n",
    "    df_adjusted[\"macroeconomic_score\"] += macroeconomic_score_adjustment\n",
    "    df_adjusted[\"sentiment_index\"] += sentiment_index_adjustment\n",
    "\n",
    "    # Add new column for interest rate change\n",
    "    df_adjusted[\"interest_rate_change\"] = interest_rate_change\n",
    "\n",
    "    # Save to CSV\n",
    "    output_path = f\"adjusted_timeseries_{scenario_id}.csv\"\n",
    "    df_adjusted.to_csv(output_path, index=False)\n",
    "    print(f\"Adjusted dataset for {scenario_id} saved to {output_path}\")\n"
   ]
  }
 ],
 "metadata": {
  "language_info": {
   "name": "python"
  }
 },
 "nbformat": 4,
 "nbformat_minor": 2
}
